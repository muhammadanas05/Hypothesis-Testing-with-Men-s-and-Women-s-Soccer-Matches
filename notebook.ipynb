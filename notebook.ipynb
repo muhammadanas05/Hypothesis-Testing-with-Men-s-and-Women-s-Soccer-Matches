{
 "cells": [
  {
   "cell_type": "markdown",
   "metadata": {},
   "source": [
    "## Import necessary libraries"
   ]
  },
  {
   "cell_type": "code",
   "execution_count": 1,
   "metadata": {},
   "outputs": [],
   "source": [
    "import pandas as pd\n",
    "import scipy.stats as stats\n",
    "from datetime import datetime"
   ]
  },
  {
   "cell_type": "markdown",
   "metadata": {},
   "source": [
    "### Load data from CSV files"
   ]
  },
  {
   "cell_type": "code",
   "execution_count": 2,
   "metadata": {},
   "outputs": [],
   "source": [
    "men_data = pd.read_csv('men_results.csv', parse_dates=['date'])\n",
    "women_data = pd.read_csv('women_results.csv', parse_dates=['date'])"
   ]
  },
  {
   "cell_type": "markdown",
   "metadata": {},
   "source": [
    "### 1. Filter data for official FIFA World Cup matches post 2002-01-01"
   ]
  },
  {
   "cell_type": "code",
   "execution_count": 3,
   "metadata": {},
   "outputs": [],
   "source": [
    "tournament_filter = \"FIFA World Cup\"\n",
    "date_cutoff = datetime(2002, 1, 1)"
   ]
  },
  {
   "cell_type": "markdown",
   "metadata": {},
   "source": [
    "### Filter for World Cup matches after 2002"
   ]
  },
  {
   "cell_type": "code",
   "execution_count": 4,
   "metadata": {},
   "outputs": [],
   "source": [
    "men_wc = men_data[(men_data['tournament'] == tournament_filter) & (men_data['date'] > date_cutoff)]\n",
    "women_wc = women_data[(women_data['tournament'] == tournament_filter) & (women_data['date'] > date_cutoff)]"
   ]
  },
  {
   "cell_type": "markdown",
   "metadata": {},
   "source": [
    "### 2. Add a total goals column"
   ]
  },
  {
   "cell_type": "code",
   "execution_count": 5,
   "metadata": {},
   "outputs": [
    {
     "name": "stderr",
     "output_type": "stream",
     "text": [
      "C:\\Users\\Rashid Iqbal\\AppData\\Local\\Temp\\ipykernel_8376\\2731328777.py:1: SettingWithCopyWarning: \n",
      "A value is trying to be set on a copy of a slice from a DataFrame.\n",
      "Try using .loc[row_indexer,col_indexer] = value instead\n",
      "\n",
      "See the caveats in the documentation: https://pandas.pydata.org/pandas-docs/stable/user_guide/indexing.html#returning-a-view-versus-a-copy\n",
      "  men_wc['total_goals'] = men_wc['home_score'] + men_wc['away_score']\n",
      "C:\\Users\\Rashid Iqbal\\AppData\\Local\\Temp\\ipykernel_8376\\2731328777.py:2: SettingWithCopyWarning: \n",
      "A value is trying to be set on a copy of a slice from a DataFrame.\n",
      "Try using .loc[row_indexer,col_indexer] = value instead\n",
      "\n",
      "See the caveats in the documentation: https://pandas.pydata.org/pandas-docs/stable/user_guide/indexing.html#returning-a-view-versus-a-copy\n",
      "  women_wc['total_goals'] = women_wc['home_score'] + women_wc['away_score']\n"
     ]
    }
   ],
   "source": [
    "men_wc['total_goals'] = men_wc['home_score'] + men_wc['away_score']\n",
    "women_wc['total_goals'] = women_wc['home_score'] + women_wc['away_score']"
   ]
  },
  {
   "cell_type": "markdown",
   "metadata": {},
   "source": [
    "### 3. Check normality of data distributions for total goals"
   ]
  },
  {
   "cell_type": "code",
   "execution_count": 6,
   "metadata": {},
   "outputs": [],
   "source": [
    "men_goals = men_wc['total_goals']\n",
    "women_goals = women_wc['total_goals']"
   ]
  },
  {
   "cell_type": "markdown",
   "metadata": {},
   "source": [
    "### Perform Shapiro-Wilk tests for normality"
   ]
  },
  {
   "cell_type": "code",
   "execution_count": 7,
   "metadata": {},
   "outputs": [
    {
     "name": "stdout",
     "output_type": "stream",
     "text": [
      "Men's goals normality test: ShapiroResult(statistic=0.9266493059134338, pvalue=8.894989197030093e-13)\n",
      "Women's goals normality test: ShapiroResult(statistic=0.8491019332746058, pvalue=3.8908293844628985e-13)\n"
     ]
    }
   ],
   "source": [
    "men_normality = stats.shapiro(men_goals)\n",
    "women_normality = stats.shapiro(women_goals)\n",
    "\n",
    "print(\"Men's goals normality test:\", men_normality)\n",
    "print(\"Women's goals normality test:\", women_normality)"
   ]
  },
  {
   "cell_type": "markdown",
   "metadata": {},
   "source": [
    "### 4. Perform the Mann-Whitney U test (non-parametric) due to non-normal distribution\n",
    "#### Using a one-sided test, assuming women's goals > men's goals"
   ]
  },
  {
   "cell_type": "code",
   "execution_count": 8,
   "metadata": {},
   "outputs": [],
   "source": [
    "mwu_test = stats.mannwhitneyu(women_goals, men_goals, alternative='greater')"
   ]
  },
  {
   "cell_type": "markdown",
   "metadata": {},
   "source": [
    "### 5. Interpret the result"
   ]
  },
  {
   "cell_type": "code",
   "execution_count": 9,
   "metadata": {},
   "outputs": [],
   "source": [
    "significance_level = 0.10\n",
    "p_val = mwu_test.pvalue\n",
    "result = \"reject\" if p_val <= significance_level else \"fail to reject\""
   ]
  },
  {
   "cell_type": "markdown",
   "metadata": {},
   "source": [
    "### Store results in the specified dictionary format"
   ]
  },
  {
   "cell_type": "code",
   "execution_count": 10,
   "metadata": {},
   "outputs": [],
   "source": [
    "result_dict = {\"p_val\": p_val, \"result\": result}"
   ]
  },
  {
   "cell_type": "markdown",
   "metadata": {},
   "source": [
    "## Results"
   ]
  },
  {
   "cell_type": "code",
   "execution_count": 11,
   "metadata": {},
   "outputs": [
    {
     "name": "stdout",
     "output_type": "stream",
     "text": [
      "Mann-Whitney U test result: {'p_val': 0.005106609825443641, 'result': 'reject'}\n"
     ]
    }
   ],
   "source": [
    "print(\"Mann-Whitney U test result:\", result_dict)"
   ]
  }
 ],
 "metadata": {
  "kernelspec": {
   "display_name": "base",
   "language": "python",
   "name": "python3"
  },
  "language_info": {
   "codemirror_mode": {
    "name": "ipython",
    "version": 3
   },
   "file_extension": ".py",
   "mimetype": "text/x-python",
   "name": "python",
   "nbconvert_exporter": "python",
   "pygments_lexer": "ipython3",
   "version": "3.11.7"
  }
 },
 "nbformat": 4,
 "nbformat_minor": 2
}
